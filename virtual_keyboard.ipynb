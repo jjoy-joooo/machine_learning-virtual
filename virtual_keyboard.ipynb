{
 "cells": [
  {
   "cell_type": "code",
   "execution_count": 6,
   "metadata": {},
   "outputs": [
    {
     "name": "stdout",
     "output_type": "stream",
     "text": [
      "Requirement already satisfied: mediapipe in c:\\users\\user\\miniconda3\\envs\\mp\\lib\\site-packages (0.9.0.1)\n",
      "Collecting opencv-python\n",
      "  Using cached opencv_python-4.9.0.80-cp37-abi3-win_amd64.whl (38.6 MB)\n",
      "Requirement already satisfied: Pillow in c:\\users\\user\\miniconda3\\envs\\mp\\lib\\site-packages (9.5.0)\n",
      "Requirement already satisfied: opencv-contrib-python in c:\\users\\user\\miniconda3\\envs\\mp\\lib\\site-packages (from mediapipe) (4.9.0.80)\n",
      "Requirement already satisfied: flatbuffers>=2.0 in c:\\users\\user\\miniconda3\\envs\\mp\\lib\\site-packages (from mediapipe) (23.5.26)\n",
      "Requirement already satisfied: matplotlib in c:\\users\\user\\miniconda3\\envs\\mp\\lib\\site-packages (from mediapipe) (3.5.3)\n",
      "Requirement already satisfied: protobuf<4,>=3.11 in c:\\users\\user\\miniconda3\\envs\\mp\\lib\\site-packages (from mediapipe) (3.20.3)\n",
      "Requirement already satisfied: attrs>=19.1.0 in c:\\users\\user\\miniconda3\\envs\\mp\\lib\\site-packages (from mediapipe) (23.2.0)\n",
      "Requirement already satisfied: absl-py in c:\\users\\user\\miniconda3\\envs\\mp\\lib\\site-packages (from mediapipe) (2.0.0)\n",
      "Requirement already satisfied: numpy in c:\\users\\user\\miniconda3\\envs\\mp\\lib\\site-packages (from mediapipe) (1.21.6)\n",
      "Requirement already satisfied: importlib-metadata in c:\\users\\user\\miniconda3\\envs\\mp\\lib\\site-packages (from attrs>=19.1.0->mediapipe) (6.7.0)\n",
      "Requirement already satisfied: packaging>=20.0 in c:\\users\\user\\miniconda3\\envs\\mp\\lib\\site-packages (from matplotlib->mediapipe) (23.2)\n",
      "Requirement already satisfied: kiwisolver>=1.0.1 in c:\\users\\user\\miniconda3\\envs\\mp\\lib\\site-packages (from matplotlib->mediapipe) (1.4.5)\n",
      "Requirement already satisfied: python-dateutil>=2.7 in c:\\users\\user\\miniconda3\\envs\\mp\\lib\\site-packages (from matplotlib->mediapipe) (2.8.2)\n",
      "Requirement already satisfied: fonttools>=4.22.0 in c:\\users\\user\\miniconda3\\envs\\mp\\lib\\site-packages (from matplotlib->mediapipe) (4.38.0)\n",
      "Requirement already satisfied: pyparsing>=2.2.1 in c:\\users\\user\\miniconda3\\envs\\mp\\lib\\site-packages (from matplotlib->mediapipe) (3.1.1)\n",
      "Requirement already satisfied: cycler>=0.10 in c:\\users\\user\\miniconda3\\envs\\mp\\lib\\site-packages (from matplotlib->mediapipe) (0.11.0)\n",
      "Requirement already satisfied: typing-extensions in c:\\users\\user\\miniconda3\\envs\\mp\\lib\\site-packages (from kiwisolver>=1.0.1->matplotlib->mediapipe) (4.7.1)\n",
      "Requirement already satisfied: six>=1.5 in c:\\users\\user\\miniconda3\\envs\\mp\\lib\\site-packages (from python-dateutil>=2.7->matplotlib->mediapipe) (1.16.0)\n",
      "Requirement already satisfied: zipp>=0.5 in c:\\users\\user\\miniconda3\\envs\\mp\\lib\\site-packages (from importlib-metadata->attrs>=19.1.0->mediapipe) (3.15.0)\n",
      "Installing collected packages: opencv-python\n",
      "Note: you may need to restart the kernel to use updated packages.\n"
     ]
    },
    {
     "name": "stderr",
     "output_type": "stream",
     "text": [
      "ERROR: Could not install packages due to an OSError: [WinError 5] 액세스가 거부되었습니다: 'c:\\\\Users\\\\USER\\\\miniconda3\\\\envs\\\\mp\\\\Lib\\\\site-packages\\\\cv2\\\\cv2.pyd'\n",
      "Consider using the `--user` option or check the permissions.\n",
      "\n"
     ]
    }
   ],
   "source": [
    "pip install mediapipe opencv-python Pillow"
   ]
  },
  {
   "cell_type": "code",
   "execution_count": 33,
   "metadata": {},
   "outputs": [],
   "source": [
    "import cv2\n",
    "import mediapipe as mp\n",
    "\n",
    "# MediaPipe의 키 관절 모델 로드\n",
    "mp_hands = mp.solutions.hands\n",
    "hands = mp_hands.Hands(static_image_mode=False, max_num_hands=2, min_detection_confidence=0.5)\n",
    "\n",
    "# OpenCV 비디오 캡처\n",
    "cap = cv2.VideoCapture(0)\n",
    "\n",
    "while cap.isOpened():\n",
    "    ret, frame = cap.read()\n",
    "    if not ret:\n",
    "        break\n",
    "\n",
    "    # MediaPipe를 사용하여 손 검출\n",
    "    rgb_frame = cv2.cvtColor(frame, cv2.COLOR_BGR2RGB)\n",
    "    results = hands.process(rgb_frame)\n",
    "\n",
    "    if results.multi_hand_landmarks:\n",
    "        for hand_landmarks in results.multi_hand_landmarks:\n",
    "            # 각 손가락 끝의 좌표에 파란색 동그라미 그리기\n",
    "            for landmark in [mp_hands.HandLandmark.INDEX_FINGER_TIP,\n",
    "                             mp_hands.HandLandmark.MIDDLE_FINGER_TIP,\n",
    "                             mp_hands.HandLandmark.RING_FINGER_TIP,\n",
    "                             mp_hands.HandLandmark.PINKY_TIP,\n",
    "                             mp_hands.HandLandmark.THUMB_TIP]:\n",
    "                point = hand_landmarks.landmark[landmark]\n",
    "                x = int(point.x * frame.shape[1])\n",
    "                y = int(point.y * frame.shape[0])\n",
    "                cv2.circle(frame, (x, y), 5, (255, 0, 0), -1)\n",
    "\n",
    "    cv2.imshow('Virtual Keyboard', frame)\n",
    "\n",
    "    if cv2.waitKey(1) & 0xFF == ord('q'):\n",
    "        break\n",
    " \n",
    "# 종료\n",
    "cap.release()\n",
    "cv2.destroyAllWindows()\n"
   ]
  }
 ],
 "metadata": {
  "kernelspec": {
   "display_name": "mp",
   "language": "python",
   "name": "python3"
  },
  "language_info": {
   "codemirror_mode": {
    "name": "ipython",
    "version": 3
   },
   "file_extension": ".py",
   "mimetype": "text/x-python",
   "name": "python",
   "nbconvert_exporter": "python",
   "pygments_lexer": "ipython3",
   "version": "3.7.12"
  }
 },
 "nbformat": 4,
 "nbformat_minor": 2
}
